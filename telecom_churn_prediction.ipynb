{
  "nbformat": 4,
  "nbformat_minor": 0,
  "metadata": {
    "colab": {
      "name": "telecom_churn_prediction.ipynb",
      "provenance": [],
      "authorship_tag": "ABX9TyOzM64rivZvbqecKn5L5aIh",
      "include_colab_link": true
    },
    "kernelspec": {
      "name": "python3",
      "display_name": "Python 3"
    }
  },
  "cells": [
    {
      "cell_type": "markdown",
      "metadata": {
        "id": "view-in-github",
        "colab_type": "text"
      },
      "source": [
        "<a href=\"https://colab.research.google.com/github/vikniksor/DataScience/blob/main/telecom_churn_prediction.ipynb\" target=\"_parent\"><img src=\"https://colab.research.google.com/assets/colab-badge.svg\" alt=\"Open In Colab\"/></a>"
      ]
    },
    {
      "cell_type": "code",
      "metadata": {
        "id": "cj4ZeOHGIh0G"
      },
      "source": [
        "import pandas as pd\r\n",
        "import matplotlib.pyplot as plt\r\n",
        "import seaborn as sb\r\n",
        "import numpy as np\r\n",
        "from sklearn.model_selection import train_test_split\r\n",
        "import scipy as sp\r\n",
        "from sklearn.ensemble import RandomForestClassifier\r\n",
        "import pickle\r\n",
        "from sklearn.model_selection import RandomizedSearchCV, GridSearchCV\r\n",
        "from sklearn import metrics\r\n",
        "from matplotlib.legend_handler import HandlerLine2D\r\n",
        "from src.plotting_func import plot_2d_separator, plot_tree_partition\r\n",
        "from sklearn.tree import export_graphviz\r\n",
        "import graphviz"
      ],
      "execution_count": null,
      "outputs": []
    },
    {
      "cell_type": "code",
      "metadata": {
        "id": "AhJKvpUvIjsx"
      },
      "source": [
        "# загрузим данные и посмотрим на них\r\n",
        "df = pd.read_excel(\"../data/telecom_churn.xlsx\")\r\n",
        "print(\"Количество наблюдений: \", df.shape[0])\r\n",
        "print(\"Количество атрибутов: \", df.shape[1])"
      ],
      "execution_count": null,
      "outputs": []
    },
    {
      "cell_type": "code",
      "metadata": {
        "id": "oMBjIfY3Ij76"
      },
      "source": [
        "pd.set_option('display.max_columns', None)\r\n",
        "\r\n",
        "print(df.head())"
      ],
      "execution_count": null,
      "outputs": []
    },
    {
      "cell_type": "code",
      "metadata": {
        "id": "X3F0p_vlIkFW"
      },
      "source": [
        "# статистика по данным\r\n",
        "description = df.describe(include='all')\r\n",
        "description.to_excel(\"../data/data_description.xlsx\")\r\n",
        "\r\n",
        "print(\"Количество пустых значений:\")\r\n",
        "print(df.isnull().sum())"
      ],
      "execution_count": null,
      "outputs": []
    },
    {
      "cell_type": "code",
      "metadata": {
        "id": "hZGQe3m3IkL9"
      },
      "source": [
        "# Churn: сколько клиентов ушло?\r\n",
        "df['Churn'].value_counts().plot(kind='bar')\r\n",
        "plt.title(\"Churn\")\r\n",
        "plt.show()"
      ],
      "execution_count": null,
      "outputs": []
    },
    {
      "cell_type": "code",
      "metadata": {
        "id": "L_4_UWWmIkQa"
      },
      "source": [
        "print(\"%f процентов клиентов ушли\" %((df.Churn[df.Churn=='Yes'].count()/df.Churn.count())*100))"
      ],
      "execution_count": null,
      "outputs": []
    },
    {
      "cell_type": "code",
      "metadata": {
        "id": "tkPOwr_0IkVW"
      },
      "source": [
        "y = df.Churn.eq('Yes').astype(int)\r\n",
        "X = df.drop('Churn', axis=1)"
      ],
      "execution_count": null,
      "outputs": []
    },
    {
      "cell_type": "code",
      "metadata": {
        "id": "o9yRAy6ZIkZ1"
      },
      "source": [
        "# tenure == 0: новые клиенты\r\n",
        "print(\"Количество новых клиентов: \", X.tenure[X.tenure==0].count())"
      ],
      "execution_count": null,
      "outputs": []
    },
    {
      "cell_type": "code",
      "metadata": {
        "id": "jgEBtzM4Ikfk"
      },
      "source": [
        "print(\"TotalCharges, новые клиенты:\")\r\n",
        "print(X.TotalCharges[X.tenure==0])"
      ],
      "execution_count": null,
      "outputs": []
    },
    {
      "cell_type": "code",
      "metadata": {
        "id": "79p7zSf8Ikt0"
      },
      "source": [
        "X.TotalCharges = X.TotalCharges.fillna(value=0.0)"
      ],
      "execution_count": null,
      "outputs": []
    },
    {
      "cell_type": "code",
      "metadata": {
        "id": "vj12JIRCIkyC"
      },
      "source": [
        "print(\"Количество пустых значений:\")\r\n",
        "print(X.isnull().sum())"
      ],
      "execution_count": null,
      "outputs": []
    },
    {
      "cell_type": "code",
      "metadata": {
        "id": "PWQ6uUj8Ik2g"
      },
      "source": [
        "# # многие атрибуты нерелевантны для тех, у кого не подключен интернет\r\n",
        "# # создадим новый стобец hasInternetService\r\n",
        "# # и два новых бинарных стобца: hasFiber и hasDSL\r\n",
        "#\r\n",
        "X = X.assign(hasInternetService = X.InternetService.ne('No').astype(int))\r\n",
        "X = X.assign(hasFiber = X.InternetService.eq('Fiber optic').astype(int))\r\n",
        "X = X.assign(hasDSL = X.InternetService.eq('DSL').astype(int))\r\n",
        "\r\n",
        "X.drop('InternetService', axis=1, inplace=True) # столбец InternetService теперь не нужен"
      ],
      "execution_count": null,
      "outputs": []
    },
    {
      "cell_type": "code",
      "metadata": {
        "id": "D8cViGaFIk7K"
      },
      "source": [
        "# преобразуем бинарные переменные в 0 и 1\r\n",
        "\r\n",
        "X.gender = X.gender.eq('Male').astype(int)\r\n",
        "\r\n",
        "yesOrNoVariableColumns = ['Partner', 'Dependents', 'PhoneService', 'MultipleLines', 'OnlineSecurity', 'OnlineBackup',\r\n",
        "                          'DeviceProtection', 'TechSupport', 'StreamingTV', 'StreamingMovies', 'PaperlessBilling']\r\n",
        "\r\n",
        "for c in yesOrNoVariableColumns:\r\n",
        "    X[c] = X[c].eq('Yes').astype(int)"
      ],
      "execution_count": null,
      "outputs": []
    },
    {
      "cell_type": "code",
      "metadata": {
        "id": "4fRHFKhfIk_r"
      },
      "source": [
        "# оставшиеся категориальные переменные преобразуем в фиктивные переменные\r\n",
        "\r\n",
        "X = pd.get_dummies(X,drop_first=True)\r\n",
        "print(\"Количество наблюдений и атрибутов после замены категориальных переменных на фиктивные:\", X.shape)"
      ],
      "execution_count": null,
      "outputs": []
    },
    {
      "cell_type": "code",
      "metadata": {
        "id": "bwiOCEIwIlEM"
      },
      "source": [
        "# корреляция между атрибутами\r\n",
        "corr = X.corr()\r\n",
        "corr.to_excel(\"../data/correlations.xlsx\")"
      ],
      "execution_count": null,
      "outputs": []
    },
    {
      "cell_type": "code",
      "metadata": {
        "id": "FNJxQftZIlJE"
      },
      "source": [
        "# нижний треугольник матрицы\r\n",
        "triangle = corr.abs().where(np.tril(np.ones(corr.shape), k=-1).astype(np.bool))\r\n",
        "print(\"Самая сильная корреляция:\")\r\n",
        "print(triangle.stack().sort_values(ascending=False)[:10])"
      ],
      "execution_count": null,
      "outputs": []
    },
    {
      "cell_type": "code",
      "metadata": {
        "id": "hzLY7EnYIlOq"
      },
      "source": [
        "# уберем лишние столбцы\r\n",
        "to_drop = ['tenure', 'hasDSL', 'MonthlyCharges']\r\n",
        "print(\"Убираем столбцы: \", to_drop)\r\n",
        "X = X.drop(to_drop, axis=1)\r\n",
        "\r\n",
        "print(\"Количество наблюдений и атрибутов после удаления сильно скоррелированных атрибутов:\", X.shape)"
      ],
      "execution_count": null,
      "outputs": []
    },
    {
      "cell_type": "code",
      "metadata": {
        "id": "2g2hIGT4IlUT"
      },
      "source": [
        "# статистика по данным после обработки\r\n",
        "description_after_preprocessing = X.describe(include='all')\r\n",
        "description_after_preprocessing.to_excel(\"../data/data_description_after_preprocessing.xlsx\")"
      ],
      "execution_count": null,
      "outputs": []
    },
    {
      "cell_type": "code",
      "metadata": {
        "id": "ajiMwmc_IlZN"
      },
      "source": [
        "# теперь можем приступать к обучению классификатора\r\n",
        "\r\n",
        "# разделим данные на две части: 30% отложим для тестирования\r\n",
        "X_train, X_test, y_train, y_test = train_test_split(X,y,test_size=0.3,stratify=y, random_state=47)\r\n",
        "\r\n",
        "clf = RandomForestClassifier(random_state=47, n_jobs=-1, n_estimators=100,\r\n",
        "                             class_weight='balanced_subsample')\r\n",
        "\r\n",
        "filename = 'rf_model.sav'"
      ],
      "execution_count": null,
      "outputs": []
    },
    {
      "cell_type": "code",
      "metadata": {
        "id": "-qThERJ-Ileg"
      },
      "source": [
        "clf.fit(X_train,y_train)\r\n",
        "y_pred = clf.predict(X_test)\r\n",
        "\r\n",
        "print(\"Результат на тестовых данных (модель по умолчанию): %f\" %(100*metrics.balanced_accuracy_score(y_test, y_pred)))"
      ],
      "execution_count": null,
      "outputs": []
    },
    {
      "cell_type": "code",
      "metadata": {
        "id": "0IRdLxvaIljR"
      },
      "source": [
        "param_distributions = {\"max_features\": list(range(1,X.shape[1])), \"max_depth\": list(range(3, 30))}\r\n",
        "\r\n",
        "randomized_search = RandomizedSearchCV(clf, param_distributions=param_distributions, n_iter=60, cv=5,\r\n",
        "                                       scoring=\"balanced_accuracy\", n_jobs=-1, random_state=47)\r\n",
        "randomized_search.fit(X_train, y_train)\r\n",
        "model = randomized_search.best_estimator_\r\n",
        "print(\"Оптимальные параметры: %s, оценка на учебных данных: %0.2f\" %\r\n",
        "      (randomized_search.best_params_, randomized_search.best_score_))\r\n",
        "\r\n",
        "# # сохраним обученную модель\r\n",
        "pickle.dump(model, open(filename, 'wb'))"
      ],
      "execution_count": null,
      "outputs": []
    },
    {
      "cell_type": "code",
      "metadata": {
        "id": "QdTg9d0DIloM"
      },
      "source": [
        "model = pickle.load(open(filename, 'rb'))\r\n",
        "y_pred = model.predict(X_test)\r\n",
        "\r\n",
        "print(\"Результат на тестовых данных: %f\" % (100*metrics.balanced_accuracy_score(y_test, y_pred)))"
      ],
      "execution_count": null,
      "outputs": []
    },
    {
      "cell_type": "code",
      "metadata": {
        "id": "ISO6_AbhIltP"
      },
      "source": [
        "cnf_matrix = metrics.confusion_matrix(y_test, y_pred)\r\n",
        "print(\"Матрица неточностей:\")\r\n",
        "print(cnf_matrix)"
      ],
      "execution_count": null,
      "outputs": []
    },
    {
      "cell_type": "code",
      "metadata": {
        "id": "X48O3SSHIlx8"
      },
      "source": [
        "sb.heatmap(cnf_matrix, annot=True, cmap='Blues', fmt='g')\r\n",
        "plt.ylabel('Реальное значение Churn')\r\n",
        "plt.xlabel('Предсказанное значение Churn')\r\n",
        "plt.show()"
      ],
      "execution_count": null,
      "outputs": []
    },
    {
      "cell_type": "code",
      "metadata": {
        "id": "l7BisxBJIl3A"
      },
      "source": [
        "# информативность (важность) атрибутов\r\n",
        "\r\n",
        "n_features = X.shape[1]\r\n",
        "plt.barh(range(n_features), model.feature_importances_)\r\n",
        "plt.yticks(np.arange(n_features), X.columns.values.tolist())\r\n",
        "plt.xlabel(\"Важность атрибута\")\r\n",
        "plt.tight_layout()\r\n",
        "plt.show()"
      ],
      "execution_count": null,
      "outputs": []
    },
    {
      "cell_type": "code",
      "metadata": {
        "id": "zdAHaR_1Il7z"
      },
      "source": [
        "tree = model.estimators_[0]"
      ],
      "execution_count": null,
      "outputs": []
    },
    {
      "cell_type": "code",
      "metadata": {
        "id": "_a6uD5E0ImAy"
      },
      "source": [
        "export_graphviz(tree, out_file=\"../data/first_tree.dot\", class_names=[\"No churn\", \"Churn\"],\r\n",
        "                feature_names = X.columns.values.tolist(), impurity=False)"
      ],
      "execution_count": null,
      "outputs": []
    },
    {
      "cell_type": "code",
      "metadata": {
        "id": "0G-X2E0CImF-"
      },
      "source": [
        "with open(\"../data/first_tree.dot\") as f:\r\n",
        "    tree_graph = f.read()"
      ],
      "execution_count": null,
      "outputs": []
    },
    {
      "cell_type": "code",
      "metadata": {
        "id": "EvGHlupzImK4"
      },
      "source": [
        "graphviz.Source(tree_graph, filename=\"../data/tree\", format='png').view()"
      ],
      "execution_count": null,
      "outputs": []
    },
    {
      "cell_type": "code",
      "metadata": {
        "id": "nIDpclnSImRE"
      },
      "source": [
        ""
      ],
      "execution_count": null,
      "outputs": []
    },
    {
      "cell_type": "code",
      "metadata": {
        "id": "hSkvPiPUImWy"
      },
      "source": [
        ""
      ],
      "execution_count": null,
      "outputs": []
    }
  ]
}